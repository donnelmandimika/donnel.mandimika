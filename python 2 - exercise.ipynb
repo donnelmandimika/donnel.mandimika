{
 "cells": [
  {
   "cell_type": "markdown",
   "metadata": {},
   "source": [
    "# W5 - Python conditions and loops assignment"
   ]
  },
  {
   "cell_type": "markdown",
   "metadata": {},
   "source": [
    "# 1. Using for loop, create nested list from dictionary, see example\n",
    "```python\n",
    "fruits = {'banana':3,'apple':2, 'mango':1, 'kiwi':5}\n",
    "fruits_list = [['banana', 'banana', 'banana'], ['apple', 'apple'], ['mango'], ['kiwi', 'kiwi', 'kiwi', 'kiwi', 'kiwi']]\n",
    "```"
   ]
  },
  {
   "cell_type": "code",
   "execution_count": 4,
   "metadata": {},
   "outputs": [
    {
     "name": "stdout",
     "output_type": "stream",
     "text": [
      "[['banana', 'banana', 'banana'], ['apple', 'apple'], ['mango'], ['kiwi', 'kiwi', 'kiwi', 'kiwi', 'kiwi']]\n"
     ]
    }
   ],
   "source": [
    "fruits = {'banana':3,'apple':2, 'mango':1, 'kiwi':5}\n",
    "fruits_list = [[key]*value for key, value in fruits.items()]\n",
    "print (fruits_list)\n",
    "\n"
   ]
  },
  {
   "cell_type": "markdown",
   "metadata": {},
   "source": [
    "# 2. Select the shortest element from the list\n",
    "```python\n",
    "fruits = ['banana','apple', 'mango', 'kiwi']\n",
    "shortest_fruit = 'kiwi'\n",
    "```"
   ]
  },
  {
   "cell_type": "code",
   "execution_count": 3,
   "metadata": {},
   "outputs": [
    {
     "name": "stdout",
     "output_type": "stream",
     "text": [
      "kiwi\n"
     ]
    }
   ],
   "source": [
    "fruits = ['banana','apple', 'mango', 'kiwi']\n",
    "\n",
    "\n",
    "print(min((word for word in fruits if word), key=len))\n"
   ]
  },
  {
   "cell_type": "markdown",
   "metadata": {},
   "source": [
    "# 3. Using loops and conditions, count occurrence of numbers, letters and other symbols in the string\n",
    "Example\n",
    "```python\n",
    "'''What a to do to die today at a 1/4 or 2 to 2. \n",
    "A terrible difficult thing to say but a harder thing still to do. \n",
    "The dragon will come at the beat of the drum with a rat-tat-tat-tat-tat-tattoo \n",
    "at a 1/4 or 2 to 2 today, at a 1/4 or 2 to 2.'''\n",
    "Number occurence: 12\n",
    "Letter occurence: 158\n",
    "Other symbols: 66\n",
    "```"
   ]
  },
  {
   "cell_type": "code",
   "execution_count": 8,
   "metadata": {},
   "outputs": [
    {
     "ename": "NameError",
     "evalue": "name 'sentencenumber' is not defined",
     "output_type": "error",
     "traceback": [
      "\u001b[0;31m---------------------------------------------------------------------------\u001b[0m",
      "\u001b[0;31mNameError\u001b[0m                                 Traceback (most recent call last)",
      "\u001b[0;32m<ipython-input-8-209220421972>\u001b[0m in \u001b[0;36m<module>\u001b[0;34m()\u001b[0m\n\u001b[1;32m      4\u001b[0m at a 1/4 or 2 to 2 today, at a 1/4 or 2 to 2.'''\n\u001b[1;32m      5\u001b[0m \u001b[0;34m\u001b[0m\u001b[0m\n\u001b[0;32m----> 6\u001b[0;31m \u001b[0msentencenumber\u001b[0m\u001b[0;34m.\u001b[0m\u001b[0mcount\u001b[0m \u001b[0;34m(\u001b[0m\u001b[0;34m'2'\u001b[0m\u001b[0;34m)\u001b[0m\u001b[0;34m\u001b[0m\u001b[0;34m\u001b[0m\u001b[0m\n\u001b[0m",
      "\u001b[0;31mNameError\u001b[0m: name 'sentencenumber' is not defined"
     ]
    }
   ],
   "source": [
    "sentence = '''What a to do to die today at a 1/4 or 2 to 2. \n",
    "A terrible difficult thing to say but a harder thing still to do. \n",
    "The dragon will come at the beat of the drum with a rat-tat-tat-tat-tat-tattoo \n",
    "at a 1/4 or 2 to 2 today, at a 1/4 or 2 to 2.'''\n",
    "\n",
    "sentencenumber.count "
   ]
  },
  {
   "cell_type": "markdown",
   "metadata": {},
   "source": [
    "# 4. Calculate dog's age in human years using [this article](https://pets.webmd.com/dogs/how-to-calculate-your-dogs-age)\n",
    "*Note: for simplicity, use values for medium dogs*"
   ]
  },
  {
   "cell_type": "code",
   "execution_count": 1,
   "metadata": {},
   "outputs": [
    {
     "name": "stdout",
     "output_type": "stream",
     "text": [
      "Dog age?5\n",
      "36\n"
     ]
    }
   ],
   "source": [
    "human_to_dog = {1:15, 2:24, 3:28, 4:32, 5:36, 6:42, 7:47, 8:51, 9:56, 10:60, 11:65, 12:69, 13:74, 14:78, 15:83, 16:87}\n",
    "\n",
    "dog_input = int(input(\"Dog age?\"))\n",
    "\n",
    "conversion= (human_to_dog[dog_input])\n",
    "print (conversion)"
   ]
  },
  {
   "cell_type": "markdown",
   "metadata": {},
   "source": [
    "# 5. Count the number of even and odd numbers from a series of numbers.\n",
    "```python\n",
    "seq = [1,44,30,15,2,18]\n",
    "```\n",
    "Odd numbers: 2\n",
    "Even numbers: 4"
   ]
  },
  {
   "cell_type": "code",
   "execution_count": 10,
   "metadata": {},
   "outputs": [
    {
     "name": "stdout",
     "output_type": "stream",
     "text": [
      "Even numbers:  4\n",
      "Odd numbers:  2\n"
     ]
    }
   ],
   "source": [
    "seq = [1,44,30,15,2,18]\n",
    "\n",
    "even_count, odd_count = 0, 0\n",
    "\n",
    "for num in seq:  \n",
    "    if num % 2 == 0: \n",
    "        even_count += 1\n",
    "    else: \n",
    "        odd_count += 1\n",
    "        \n",
    "print(\"Even numbers: \", even_count) \n",
    "print(\"Odd numbers: \", odd_count) "
   ]
  },
  {
   "cell_type": "markdown",
   "metadata": {},
   "source": [
    "# 6. Using loops, print following pattern\n",
    "```\n",
    "*\n",
    "**\n",
    "***\n",
    "****\n",
    "```"
   ]
  },
  {
   "cell_type": "code",
   "execution_count": 2,
   "metadata": {},
   "outputs": [
    {
     "name": "stdout",
     "output_type": "stream",
     "text": [
      "*\r\n",
      "**\r\n",
      "***\r\n",
      "****\r\n"
     ]
    }
   ],
   "source": [
    "for i in range (0,4):\n",
    "    for x in range (0,i+1):\n",
    "        print(\"*\", end=\"\")\n",
    "    print (\"\\r\")\n",
    "    "
   ]
  },
  {
   "cell_type": "markdown",
   "metadata": {},
   "source": [
    "# 7. Using list comprehensions, transform all vowels within the string to upper case\n",
    "\n",
    "example `python -> pYthOn`"
   ]
  },
  {
   "cell_type": "code",
   "execution_count": 28,
   "metadata": {},
   "outputs": [
    {
     "ename": "NameError",
     "evalue": "name 'raw_input' is not defined",
     "output_type": "error",
     "traceback": [
      "\u001b[0;31m---------------------------------------------------------------------------\u001b[0m",
      "\u001b[0;31mNameError\u001b[0m                                 Traceback (most recent call last)",
      "\u001b[0;32m<ipython-input-28-d64c67247757>\u001b[0m in \u001b[0;36m<module>\u001b[0;34m()\u001b[0m\n\u001b[1;32m      1\u001b[0m \u001b[0mvowels\u001b[0m\u001b[0;34m=\u001b[0m\u001b[0;34m[\u001b[0m\u001b[0;34m'a'\u001b[0m\u001b[0;34m,\u001b[0m\u001b[0;34m'e'\u001b[0m\u001b[0;34m,\u001b[0m\u001b[0;34m'i'\u001b[0m\u001b[0;34m,\u001b[0m\u001b[0;34m'o'\u001b[0m\u001b[0;34m,\u001b[0m\u001b[0;34m'u'\u001b[0m\u001b[0;34m]\u001b[0m\u001b[0;34m\u001b[0m\u001b[0;34m\u001b[0m\u001b[0m\n\u001b[0;32m----> 2\u001b[0;31m \u001b[0my\u001b[0m \u001b[0;34m=\u001b[0m \u001b[0mraw_input\u001b[0m\u001b[0;34m(\u001b[0m\u001b[0;34m'please write a sentence: '\u001b[0m\u001b[0;34m)\u001b[0m\u001b[0;34m\u001b[0m\u001b[0;34m\u001b[0m\u001b[0m\n\u001b[0m\u001b[1;32m      3\u001b[0m \u001b[0my\u001b[0m \u001b[0;34m=\u001b[0m \u001b[0my\u001b[0m\u001b[0;34m.\u001b[0m\u001b[0mlower\u001b[0m\u001b[0;34m(\u001b[0m\u001b[0;34m)\u001b[0m\u001b[0;34m\u001b[0m\u001b[0;34m\u001b[0m\u001b[0m\n\u001b[1;32m      4\u001b[0m \u001b[0;32mfor\u001b[0m \u001b[0mv\u001b[0m \u001b[0;32min\u001b[0m \u001b[0mvowels\u001b[0m\u001b[0;34m:\u001b[0m\u001b[0;34m\u001b[0m\u001b[0;34m\u001b[0m\u001b[0m\n\u001b[1;32m      5\u001b[0m     \u001b[0my\u001b[0m \u001b[0;34m=\u001b[0m \u001b[0my\u001b[0m\u001b[0;34m.\u001b[0m\u001b[0mreplace\u001b[0m\u001b[0;34m(\u001b[0m\u001b[0mv\u001b[0m\u001b[0;34m,\u001b[0m \u001b[0mv\u001b[0m\u001b[0;34m.\u001b[0m\u001b[0mupper\u001b[0m\u001b[0;34m(\u001b[0m\u001b[0;34m)\u001b[0m\u001b[0;34m)\u001b[0m\u001b[0;34m\u001b[0m\u001b[0;34m\u001b[0m\u001b[0m\n",
      "\u001b[0;31mNameError\u001b[0m: name 'raw_input' is not defined"
     ]
    }
   ],
   "source": [
    "vowels=['a','e','i','o','u']\n",
    "y = raw_input('please write a sentence: ')\n",
    "y = y.lower()\n",
    "for v in vowels:\n",
    "   "
   ]
  },
  {
   "cell_type": "markdown",
   "metadata": {},
   "source": [
    "# 8. Print position number of the letter\n",
    "1. Ask user to type letter (just one)\n",
    "2. Print position of the letter in the alphabet\n",
    "\n",
    "Example\n",
    "```\n",
    "Type letter: B\n",
    "Letter B position is 2.\n",
    "```"
   ]
  },
  {
   "cell_type": "code",
   "execution_count": 6,
   "metadata": {},
   "outputs": [
    {
     "name": "stdout",
     "output_type": "stream",
     "text": [
      "Put letter :e\n",
      "5\n"
     ]
    }
   ],
   "source": [
    "alphabet = {'a':'1','b':'2','c':'3','d':'4','e':'5','f':'6','g':'7','h':'8',\n",
    "    'i':'9','j':'10','k':'11','l':'12','m':'13','n':'14','o':'15','p':'16','q':'17',\n",
    "    'r':'18','s':'19','t':'20','u':'21','v':'22','w':'23','x':'24','y':'25','z':'26'}\n",
    "\n",
    "letter=(input(\"Put letter :\"))\n",
    "\n",
    "for i in (letter):\n",
    "    print (alphabet[i])\n",
    "\n"
   ]
  },
  {
   "cell_type": "code",
   "execution_count": null,
   "metadata": {},
   "outputs": [],
   "source": []
  },
  {
   "cell_type": "code",
   "execution_count": null,
   "metadata": {},
   "outputs": [],
   "source": []
  },
  {
   "cell_type": "markdown",
   "metadata": {},
   "source": [
    "# 9. Find the median of three values (do not use median function)\n",
    "Ask user to input 3 values\n",
    "Example\n",
    "```\n",
    "Type number:5\n",
    "Type number:12\n",
    "Type number:6\n",
    "\n",
    "Median value is 5.\n",
    "```\n"
   ]
  },
  {
   "cell_type": "code",
   "execution_count": 8,
   "metadata": {},
   "outputs": [
    {
     "name": "stdout",
     "output_type": "stream",
     "text": [
      "enter number :4\n",
      "enter number :6\n",
      "enter number :8\n",
      "Median : 6\n"
     ]
    }
   ],
   "source": [
    "a= input(\"enter number :\")\n",
    "b= input(\"enter number :\")\n",
    "c= input(\"enter number :\")\n",
    "\n",
    "sortedlist=(a,b,c)\n",
    "\n",
    "sortedlist=sorted(sortedlist)\n",
    "median=(sortedlist[1])\n",
    "print (\"Median : {}\".format(median))\n"
   ]
  },
  {
   "cell_type": "markdown",
   "metadata": {},
   "source": [
    "# 10. Using `break` and `continue` statements, print numbers\n",
    "1. Ask user for their favourite number \n",
    "    1. If user chose number 13, ask user for another number\n",
    "    1. Else print numbers from 0 to favourite number, but do not print number 13\n",
    "    1. Finish printing after user's favourite number"
   ]
  },
  {
   "cell_type": "code",
   "execution_count": null,
   "metadata": {},
   "outputs": [],
   "source": []
  },
  {
   "cell_type": "markdown",
   "metadata": {},
   "source": [
    "# BONUS: Using nested loops, print first letter of your name:\n",
    "\n",
    "```\n",
    "  ***                                                                   \n",
    " *   *                                                                  \n",
    " *   *                                                                  \n",
    " *****                                                                  \n",
    " *   *                                                                  \n",
    " *   *                                                                  \n",
    " *   *\n",
    "```"
   ]
  },
  {
   "cell_type": "code",
   "execution_count": null,
   "metadata": {},
   "outputs": [],
   "source": []
  }
 ],
 "metadata": {
  "kernelspec": {
   "display_name": "Python 3",
   "language": "python",
   "name": "python3"
  },
  "language_info": {
   "codemirror_mode": {
    "name": "ipython",
    "version": 3
   },
   "file_extension": ".py",
   "mimetype": "text/x-python",
   "name": "python",
   "nbconvert_exporter": "python",
   "pygments_lexer": "ipython3",
   "version": "3.7.4"
  }
 },
 "nbformat": 4,
 "nbformat_minor": 2
}
