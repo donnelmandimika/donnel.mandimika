{
 "cells": [
  {
   "cell_type": "markdown",
   "metadata": {},
   "source": [
    "# W4 - Python data types assignment"
   ]
  },
  {
   "cell_type": "markdown",
   "metadata": {},
   "source": [
    "# 1. Print word `python` in reverse order"
   ]
  },
  {
   "cell_type": "code",
   "execution_count": 1,
   "metadata": {},
   "outputs": [
    {
     "data": {
      "text/plain": [
       "'nohtyp'"
      ]
     },
     "execution_count": 1,
     "metadata": {},
     "output_type": "execute_result"
    }
   ],
   "source": [
    "'python'[::-1]"
   ]
  },
  {
   "cell_type": "markdown",
   "metadata": {},
   "source": [
    "# 2. Define variables `apples` and `oranges` and using `format` method print following string:\n",
    ">I have **7** apples and **5** oranges, therefore I have **12** fruits.`"
   ]
  },
  {
   "cell_type": "code",
   "execution_count": 5,
   "metadata": {},
   "outputs": [
    {
     "data": {
      "text/plain": [
       "'I have 7 apples and 5 oranges, therefore I have 12 fruits'"
      ]
     },
     "execution_count": 5,
     "metadata": {},
     "output_type": "execute_result"
    }
   ],
   "source": [
    "\n",
    "\"I have {} apples and {} oranges, therefore I have {} fruits\".format(7,5,12)\n"
   ]
  },
  {
   "cell_type": "markdown",
   "metadata": {},
   "source": [
    "# 3. Convert list of characters (`['a', 'b', 'c', 'd']`) to string (`'abc'`)"
   ]
  },
  {
   "cell_type": "code",
   "execution_count": 37,
   "metadata": {},
   "outputs": [
    {
     "data": {
      "text/plain": [
       "'abc'"
      ]
     },
     "execution_count": 37,
     "metadata": {},
     "output_type": "execute_result"
    }
   ],
   "source": [
    "abc= ['a', 'b', 'c', 'd']\n",
    "abc[0]+abc[1]+abc[2]\n"
   ]
  },
  {
   "cell_type": "code",
   "execution_count": null,
   "metadata": {},
   "outputs": [],
   "source": []
  },
  {
   "cell_type": "markdown",
   "metadata": {},
   "source": [
    "# 4. Get difference between two lists (e.g. `[1, 2, 3, 4, 8, 12]` and `[1, 4, 8, 2]`)"
   ]
  },
  {
   "cell_type": "code",
   "execution_count": 3,
   "metadata": {},
   "outputs": [
    {
     "name": "stdout",
     "output_type": "stream",
     "text": [
      "[3, 12]\n"
     ]
    }
   ],
   "source": [
    "first_list = [1, 2, 3, 4, 8, 12]\n",
    "sec_list = [1, 4, 8, 2]\n",
    "def Diff(first_list, sec_lsit): \n",
    "    return (list(set(first_list) - set(sec_lsit))) \n",
    "print (Diff (first_list, sec_list))"
   ]
  },
  {
   "cell_type": "markdown",
   "metadata": {},
   "source": [
    "# 5. Add an item to a tuple\n",
    "```python\n",
    "tuple_numbers = (4, 6, 2, 8, 3, 1) \n",
    "```"
   ]
  },
  {
   "cell_type": "code",
   "execution_count": 12,
   "metadata": {},
   "outputs": [
    {
     "name": "stdout",
     "output_type": "stream",
     "text": [
      "[4, 6, 2, 8, 3, 1, 5, 6]\n"
     ]
    }
   ],
   "source": [
    "numbers = (4, 6, 2, 8, 3, 1)\n",
    "add = [5,6]\n",
    "z = list(numbers)\n",
    "for x in add:\n",
    "        z.append(x)\n",
    "print (z) "
   ]
  },
  {
   "cell_type": "markdown",
   "metadata": {},
   "source": [
    "# 6. Convert a tuple to a string\n",
    "```python\n",
    "input_tuple = ('p', 'y', 't', 'h', 'o', 'n')\n",
    "output_string = 'python'\n",
    "```"
   ]
  },
  {
   "cell_type": "code",
   "execution_count": 25,
   "metadata": {},
   "outputs": [
    {
     "name": "stdout",
     "output_type": "stream",
     "text": [
      "python\n"
     ]
    }
   ],
   "source": [
    "input_tuple = ('p', 'y', 't', 'h', 'o', 'n')\n",
    "\n",
    "str = ''.join(input_tuple)\n",
    "\n",
    "print(str)\n"
   ]
  },
  {
   "cell_type": "markdown",
   "metadata": {},
   "source": [
    "# 7. Combine two dictionaries into one\n",
    "\n",
    "```python\n",
    "names1 = {'Jack': 25, 'John': 26, 'Emily': 23}\n",
    "names2 = {'Carol': 28, 'Walter': 22}\n",
    "```"
   ]
  },
  {
   "cell_type": "code",
   "execution_count": 27,
   "metadata": {},
   "outputs": [
    {
     "name": "stdout",
     "output_type": "stream",
     "text": [
      "{'Jack': 25, 'John': 26, 'Emily': 23, 'Carol': 28, 'Walter': 22}\n"
     ]
    }
   ],
   "source": [
    "names1 = {'Jack': 25, 'John': 26, 'Emily': 23}\n",
    "names2 = {'Carol': 28, 'Walter': 22}\n",
    "names3= names1.update(names2)\n",
    "print (names1)"
   ]
  },
  {
   "cell_type": "markdown",
   "metadata": {},
   "source": [
    "# 8. Sum all the items in a dictionary\n",
    "```python\n",
    "ice_cream_price = {'Chocolate': 200, 'Strawberry': 188, 'Vanilla': 175, 'Caramel': 180}\n",
    "```"
   ]
  },
  {
   "cell_type": "code",
   "execution_count": 31,
   "metadata": {},
   "outputs": [
    {
     "name": "stdout",
     "output_type": "stream",
     "text": [
      "743\n"
     ]
    }
   ],
   "source": [
    "ice_cream_price = {'Chocolate': 200, 'Strawberry': 188, 'Vanilla': 175, 'Caramel': 180}\n",
    "print (sum(ice_cream_price.values()))"
   ]
  },
  {
   "cell_type": "markdown",
   "metadata": {},
   "source": [
    "# 9. Remove item(s) from set. Can you guess which item will be removed?\n",
    "```python\n",
    "set_numbers = {1, 2, 3, 4, 5}\n",
    "set_letters = {'p', 'y', 't', 'h', 'o', 'n'}\n",
    "```"
   ]
  },
  {
   "cell_type": "code",
   "execution_count": 33,
   "metadata": {},
   "outputs": [
    {
     "ename": "NameError",
     "evalue": "name 'set_number' is not defined",
     "output_type": "error",
     "traceback": [
      "\u001b[0;31m---------------------------------------------------------------------------\u001b[0m",
      "\u001b[0;31mNameError\u001b[0m                                 Traceback (most recent call last)",
      "\u001b[0;32m<ipython-input-33-13e8dcb1e235>\u001b[0m in \u001b[0;36m<module>\u001b[0;34m()\u001b[0m\n\u001b[1;32m      1\u001b[0m \u001b[0mset_numbers\u001b[0m \u001b[0;34m=\u001b[0m \u001b[0;34m{\u001b[0m\u001b[0;36m1\u001b[0m\u001b[0;34m,\u001b[0m \u001b[0;36m2\u001b[0m\u001b[0;34m,\u001b[0m \u001b[0;36m3\u001b[0m\u001b[0;34m,\u001b[0m \u001b[0;36m4\u001b[0m\u001b[0;34m,\u001b[0m \u001b[0;36m5\u001b[0m\u001b[0;34m}\u001b[0m\u001b[0;34m\u001b[0m\u001b[0;34m\u001b[0m\u001b[0m\n\u001b[0;32m----> 2\u001b[0;31m \u001b[0mset_number\u001b[0m\u001b[0;34m[\u001b[0m\u001b[0;34m:\u001b[0m\u001b[0;36m5\u001b[0m\u001b[0;34m]\u001b[0m\u001b[0;34m\u001b[0m\u001b[0;34m\u001b[0m\u001b[0m\n\u001b[0m",
      "\u001b[0;31mNameError\u001b[0m: name 'set_number' is not defined"
     ]
    }
   ],
   "source": [
    "set_numbers = {1, 2, 3, 4, 5}\n",
    "set_number[:5]"
   ]
  },
  {
   "cell_type": "markdown",
   "metadata": {},
   "source": [
    "# 10. split list into 3 different variables \n",
    "```python\n",
    "color = [\n",
    "    (\"Black\", \"#000000\", \"rgb(0, 0, 0)\"), \n",
    "    (\"Red\", \"#FF0000\", \"rgb(255, 0, 0)\"), \n",
    "    (\"Yellow\", \"#FFFF00\", \"rgb(255, 255, 0)\")\n",
    "]\n",
    "```"
   ]
  },
  {
   "cell_type": "code",
   "execution_count": 34,
   "metadata": {},
   "outputs": [
    {
     "name": "stdout",
     "output_type": "stream",
     "text": [
      "('Black', '#000000', 'rgb(0, 0, 0)')\n",
      "('Red', '#FF0000', 'rgb(255, 0, 0)')\n",
      "('Yellow', '#FFFF00', 'rgb(255, 255, 0)')\n"
     ]
    }
   ],
   "source": [
    "color = [\n",
    "    (\"Black\", \"#000000\", \"rgb(0, 0, 0)\"), \n",
    "    (\"Red\", \"#FF0000\", \"rgb(255, 0, 0)\"), \n",
    "    (\"Yellow\", \"#FFFF00\", \"rgb(255, 255, 0)\")\n",
    "]\n",
    "var1, var2, var3 = color\n",
    "print (var1)\n",
    "print (var2)\n",
    "print (var3)"
   ]
  },
  {
   "cell_type": "markdown",
   "metadata": {},
   "source": [
    "# BONUS: test whether every element of first set is in second set and vice versa using using relational operators\n",
    "```python\n",
    "set_a = set(['Chocolate', 'Strawberry', 'Vanilla', 'Caramel'])\n",
    "set_b = set(['Vanilla', 'Caramel','Chocolate', 'Strawberry'])\n",
    "set_c = set(['Chocolate'])\n",
    "```"
   ]
  },
  {
   "cell_type": "code",
   "execution_count": null,
   "metadata": {},
   "outputs": [],
   "source": []
  }
 ],
 "metadata": {
  "kernelspec": {
   "display_name": "Python 3",
   "language": "python",
   "name": "python3"
  },
  "language_info": {
   "codemirror_mode": {
    "name": "ipython",
    "version": 3
   },
   "file_extension": ".py",
   "mimetype": "text/x-python",
   "name": "python",
   "nbconvert_exporter": "python",
   "pygments_lexer": "ipython3",
   "version": "3.7.4"
  }
 },
 "nbformat": 4,
 "nbformat_minor": 2
}
